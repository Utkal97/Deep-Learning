{
 "cells": [
  {
   "cell_type": "code",
   "execution_count": 1,
   "id": "c1a7400e-5b73-47f1-8519-850acc7d8fa9",
   "metadata": {},
   "outputs": [
    {
     "name": "stderr",
     "output_type": "stream",
     "text": [
      "/software/slurm/spackages/linux-rocky8-x86_64/gcc-12.2.0/anaconda3-2023.09-0-3mhml42fa64byxqyd5fig5tbih625dp2/lib/python3.11/site-packages/transformers/utils/generic.py:260: FutureWarning: `torch.utils._pytree._register_pytree_node` is deprecated. Please use `torch.utils._pytree.register_pytree_node` instead.\n",
      "  torch.utils._pytree._register_pytree_node(\n"
     ]
    }
   ],
   "source": [
    "import json\n",
    "import torch\n",
    "from transformers import RobertaTokenizerFast, RobertaForQuestionAnswering, get_linear_schedule_with_warmup\n",
    "from torch.utils.data import Dataset, DataLoader\n",
    "from torch.amp import autocast\n",
    "from tqdm import tqdm\n",
    "from sklearn.metrics import f1_score\n",
    "import os\n",
    "\n",
    "device = torch.device('cuda') if torch.cuda.is_available() else torch.device('cpu')"
   ]
  },
  {
   "cell_type": "code",
   "execution_count": 2,
   "id": "9a36118a-04f7-4d0a-9cb8-7da1607e9b69",
   "metadata": {},
   "outputs": [
    {
     "name": "stderr",
     "output_type": "stream",
     "text": [
      "Some weights of RobertaForQuestionAnswering were not initialized from the model checkpoint at roberta-base and are newly initialized: ['qa_outputs.bias', 'qa_outputs.weight']\n",
      "You should probably TRAIN this model on a down-stream task to be able to use it for predictions and inference.\n"
     ]
    }
   ],
   "source": [
    "BASE_PATH = \"/home/usiriko/8430DeepLearning/Assignment3/\"\n",
    "spoken_train = \"spoken_train-v1.1.json\"\n",
    "spoken_test = \"spoken_test-v1.1.json\"\n",
    "spoken_test_WER44 = \"spoken_test-v1.1_WER44.json\"\n",
    "spoken_test_WER54 = \"spoken_test-v1.1_WER54.json\"\n",
    "\n",
    "def read_json_data(path):\n",
    "    contexts = []\n",
    "    questions = []\n",
    "    answers = []\n",
    "    \n",
    "    with open(path, 'r') as file:\n",
    "        raw_data = json.load(file)\n",
    "\n",
    "    for group in raw_data['data']:\n",
    "        for paragraph in group['paragraphs']:\n",
    "            context = paragraph['context']\n",
    "            for qa in paragraph['qas']:\n",
    "                question = qa['question']\n",
    "                for answer in qa['answers']:\n",
    "                    contexts.append(context.lower())\n",
    "                    questions.append(question.lower())\n",
    "                    answers.append(answer)\n",
    "\n",
    "    return contexts, questions, answers\n",
    "\n",
    "train_contexts, train_questions, train_answers = read_json_data(os.path.join(BASE_PATH, spoken_train))\n",
    "valid_contexts, valid_questions, valid_answers = read_json_data(os.path.join(BASE_PATH, spoken_test))\n",
    "valid_contexts_44, valid_questions_44, valid_answers_44 = read_json_data(os.path.join(BASE_PATH, spoken_test_WER44))\n",
    "valid_contexts_54, valid_questions_54, valid_answers_54 = read_json_data(os.path.join(BASE_PATH, spoken_test_WER54))\n",
    "\n",
    "tokenizer = RobertaTokenizerFast.from_pretrained('roberta-base')\n",
    "model = RobertaForQuestionAnswering.from_pretrained('roberta-base').to(device)"
   ]
  },
  {
   "cell_type": "code",
   "execution_count": 3,
   "id": "db3d8295-c82e-460f-baad-6d999b85fbde",
   "metadata": {},
   "outputs": [],
   "source": [
    "class SpokenSQuADDataset(Dataset):\n",
    "    def __init__(self, contexts, questions, answers, tokenizer, max_length=512, doc_stride=128):\n",
    "        self.contexts = contexts\n",
    "        self.questions = questions\n",
    "        self.answers = answers\n",
    "        self.tokenizer = tokenizer\n",
    "        self.max_length = max_length\n",
    "        self.doc_stride = doc_stride\n",
    "\n",
    "    def __len__(self):\n",
    "        return len(self.questions)\n",
    "\n",
    "    def __getitem__(self, idx):\n",
    "        question = self.questions[idx]\n",
    "        context = self.contexts[idx]\n",
    "        answer = self.answers[idx]\n",
    "        \n",
    "        start_char = answer['answer_start']\n",
    "        end_char = start_char + len(answer['text'])\n",
    "        \n",
    "        encoding = self.tokenizer(\n",
    "            question,\n",
    "            context,\n",
    "            max_length=self.max_length,\n",
    "            stride=self.doc_stride,\n",
    "            padding=\"max_length\",\n",
    "            truncation=True,\n",
    "            return_offsets_mapping=True\n",
    "        )\n",
    "        \n",
    "        start_token = end_token = None\n",
    "        for i, (offset_start, offset_end) in enumerate(encoding['offset_mapping']):\n",
    "            if offset_start <= start_char < offset_end:\n",
    "                start_token = i\n",
    "            if offset_start < end_char <= offset_end:\n",
    "                end_token = i\n",
    "                break\n",
    "\n",
    "        if start_token is None:\n",
    "            start_token = 0\n",
    "        if end_token is None:\n",
    "            end_token = 0\n",
    "\n",
    "        encoding['start_positions'] = start_token\n",
    "        encoding['end_positions'] = end_token\n",
    "\n",
    "        return {k: torch.tensor(v).to(device) for k, v in encoding.items()}"
   ]
  },
  {
   "cell_type": "code",
   "execution_count": 4,
   "id": "7e00710f-ab2a-4b96-a383-24310c153ff5",
   "metadata": {},
   "outputs": [],
   "source": [
    "EPOCHS = 5\n",
    "\n",
    "train_dataset = SpokenSQuADDataset(train_contexts, train_questions, train_answers, tokenizer)\n",
    "train_dataloader = DataLoader(train_dataset, batch_size=8, shuffle=True)\n",
    "\n",
    "optimizer = torch.optim.AdamW(model.parameters(), lr=3e-5)\n",
    "total_steps = len(train_dataloader) * EPOCHS  \n",
    "scheduler = get_linear_schedule_with_warmup(optimizer, num_warmup_steps=0, num_training_steps=total_steps)\n",
    "scaler = torch.amp.GradScaler()"
   ]
  },
  {
   "cell_type": "code",
   "execution_count": 5,
   "id": "268a354f-42a5-4439-8baa-4f1500a1c4ab",
   "metadata": {},
   "outputs": [
    {
     "name": "stderr",
     "output_type": "stream",
     "text": [
      "Epoch 1 :   0%|          | 0/4639 [00:00<?, ?it/s]/home/usiriko/.local/lib/python3.11/site-packages/torch/optim/lr_scheduler.py:216: UserWarning: Detected call of `lr_scheduler.step()` before `optimizer.step()`. In PyTorch 1.1.0 and later, you should call them in the opposite order: `optimizer.step()` before `lr_scheduler.step()`.  Failure to do this will result in PyTorch skipping the first value of the learning rate schedule. See more details at https://pytorch.org/docs/stable/optim.html#how-to-adjust-learning-rate\n",
      "  warnings.warn(\n",
      "                                                                         \r"
     ]
    },
    {
     "name": "stdout",
     "output_type": "stream",
     "text": [
      "Epoch 1 Average Loss=1.7657232482285816\n"
     ]
    },
    {
     "name": "stderr",
     "output_type": "stream",
     "text": [
      "                                                                          \r"
     ]
    },
    {
     "name": "stdout",
     "output_type": "stream",
     "text": [
      "Epoch 2 Average Loss=1.0912354789653402\n"
     ]
    },
    {
     "name": "stderr",
     "output_type": "stream",
     "text": [
      "                                                                          \r"
     ]
    },
    {
     "name": "stdout",
     "output_type": "stream",
     "text": [
      "Epoch 3 Average Loss=0.7551216221197485\n"
     ]
    },
    {
     "name": "stderr",
     "output_type": "stream",
     "text": [
      "                                                                          \r"
     ]
    },
    {
     "name": "stdout",
     "output_type": "stream",
     "text": [
      "Epoch 4 Average Loss=0.5341209861935534\n"
     ]
    },
    {
     "name": "stderr",
     "output_type": "stream",
     "text": [
      "                                                                           "
     ]
    },
    {
     "name": "stdout",
     "output_type": "stream",
     "text": [
      "Epoch 5 Average Loss=0.39038895681102126\n"
     ]
    },
    {
     "name": "stderr",
     "output_type": "stream",
     "text": [
      "\r"
     ]
    }
   ],
   "source": [
    "loss_arr = []\n",
    "\n",
    "for epoch in range(EPOCHS):\n",
    "    model.train()\n",
    "    epoch_loss = 0\n",
    "    progress_bar = tqdm(train_dataloader, desc=f\"Epoch {epoch + 1} \", leave=False)\n",
    "    for batch in progress_bar:\n",
    "        optimizer.zero_grad()\n",
    "\n",
    "        with autocast('cuda'):\n",
    "            outputs = model(\n",
    "                input_ids=batch['input_ids'],\n",
    "                attention_mask=batch['attention_mask'],\n",
    "                start_positions=batch['start_positions'],\n",
    "                end_positions=batch['end_positions']\n",
    "            )\n",
    "            loss = outputs.loss\n",
    "\n",
    "        scaler.scale(loss).backward()\n",
    "        scaler.step(optimizer)\n",
    "        scaler.update()\n",
    "        scheduler.step()\n",
    "        \n",
    "        epoch_loss += loss.item()\n",
    "        progress_bar.set_postfix({\"Loss\": loss.item()})\n",
    "\n",
    "    avg_loss = epoch_loss/len(train_dataloader)\n",
    "    loss_arr.append(avg_loss)\n",
    "    print(f\"Epoch {epoch + 1} Average Loss={avg_loss}\")"
   ]
  },
  {
   "cell_type": "code",
   "execution_count": 6,
   "id": "d96bb8b3-03ed-4705-898a-c851f6f5cd52",
   "metadata": {},
   "outputs": [],
   "source": [
    "import numpy as np\n",
    "\n",
    "def f1(predictions, references):\n",
    "    f1_scores = []\n",
    "    for pred, ref in zip(predictions, references):\n",
    "        pred_tokens = set(pred.split())\n",
    "        ref_tokens = set(ref.split())\n",
    "        \n",
    "        # Find common tokens\n",
    "        common_tokens = pred_tokens.intersection(ref_tokens)\n",
    "        num_same = len(common_tokens)\n",
    "        \n",
    "        if num_same == 0:\n",
    "            f1_scores.append(0)\n",
    "        else:\n",
    "            precision = num_same / len(pred_tokens)\n",
    "            recall = num_same / len(ref_tokens)\n",
    "            f1 = (2 * precision * recall) / (precision + recall)\n",
    "            f1_scores.append(f1)\n",
    "    \n",
    "    return np.mean(f1_scores)"
   ]
  },
  {
   "cell_type": "code",
   "execution_count": 7,
   "id": "cc3a1faf-256f-406c-8175-8d0eb08cf3cd",
   "metadata": {
    "tags": []
   },
   "outputs": [],
   "source": [
    "def evaluate(model, contexts, questions, answers):\n",
    "    model.eval()\n",
    "    predictions = []\n",
    "    references = [answer['text'] for answer in answers]\n",
    "    \n",
    "    for question, context in zip(questions, contexts):\n",
    "        inputs = tokenizer(question, context, return_tensors=\"pt\", max_length=512, truncation=True).to(device)\n",
    "        with torch.no_grad():\n",
    "            outputs = model(**inputs)\n",
    "            start_scores = outputs.start_logits\n",
    "            end_scores = outputs.end_logits\n",
    "            start_index = torch.argmax(start_scores)\n",
    "            end_index = torch.argmax(end_scores)\n",
    "            answer_tokens = inputs[\"input_ids\"][0][start_index:end_index + 1]\n",
    "            predicted_answer = tokenizer.decode(answer_tokens)\n",
    "            predictions.append(predicted_answer)\n",
    "    \n",
    "    return f1(predictions, references)"
   ]
  },
  {
   "cell_type": "code",
   "execution_count": 9,
   "id": "4518f6c3-8fbe-4d3e-b88d-2756403ef85b",
   "metadata": {
    "tags": []
   },
   "outputs": [
    {
     "name": "stdout",
     "output_type": "stream",
     "text": [
      "F1 Score on Test Data: 0.650148487732685\n",
      "F1 Score on Test Data WER44: 0.2727089182292707\n",
      "F1 Score on Test Data WER54: 0.2044921538051461\n",
      "Loss array: [1.7657232482285816, 1.0912354789653402, 0.7551216221197485, 0.5341209861935534, 0.39038895681102126]\n"
     ]
    }
   ],
   "source": [
    "f1_test = evaluate(model, valid_contexts, valid_questions, valid_answers)\n",
    "f1_test_WER44 = evaluate(model, valid_contexts_44, valid_questions_44, valid_answers_44)\n",
    "f1_test_WER54 = evaluate(model, valid_contexts_54, valid_questions_54, valid_answers_54)\n",
    "\n",
    "print(f\"F1 Score on Test Data: {f1_test}\")\n",
    "print(f\"F1 Score on Test Data WER44: {f1_test_WER44}\")\n",
    "print(f\"F1 Score on Test Data WER54: {f1_test_WER54}\")\n",
    "\n",
    "print(\"Loss array:\", loss_arr)"
   ]
  },
  {
   "cell_type": "code",
   "execution_count": 10,
   "id": "1147e72e-62a1-4696-9585-e9c61f636bfb",
   "metadata": {
    "tags": []
   },
   "outputs": [
    {
     "data": {
      "image/png": "[encoded data removed]",
      "text/plain": [
       "<Figure size 1000x600 with 1 Axes>"
      ]
     },
     "metadata": {},
     "output_type": "display_data"
    }
   ],
   "source": [
    "import matplotlib.pyplot as plt\n",
    "\n",
    "plt.figure(figsize=(10, 6))\n",
    "plt.plot(range(1, len(loss_arr) + 1), loss_arr, marker='o', linestyle='-', markersize=5)\n",
    "plt.title(\"Loss per Epoch\")\n",
    "plt.xlabel(\"Epoch\")\n",
    "plt.ylabel(\"Loss\")\n",
    "plt.xticks(range(1, len(loss_arr) + 1))\n",
    "plt.grid(True)\n",
    "plt.show()"
   ]
  },
  {
   "cell_type": "code",
   "execution_count": null,
   "id": "33aa123d-0444-4dc3-8d67-23e4c07b35a5",
   "metadata": {},
   "outputs": [],
   "source": []
  }
 ],
 "metadata": {
  "kernelspec": {
   "display_name": "Python 3 (ipykernel)",
   "language": "python",
   "name": "python3"
  },
  "language_info": {
   "codemirror_mode": {
    "name": "ipython",
    "version": 3
   },
   "file_extension": ".py",
   "mimetype": "text/x-python",
   "name": "python",
   "nbconvert_exporter": "python",
   "pygments_lexer": "ipython3",
   "version": "3.11.5"
  }
 },
 "nbformat": 4,
 "nbformat_minor": 5
}
